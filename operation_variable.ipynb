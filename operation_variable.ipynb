{
  "nbformat": 4,
  "nbformat_minor": 0,
  "metadata": {
    "colab": {
      "name": "operation_variable.ipynb",
      "provenance": [],
      "authorship_tag": "ABX9TyP0Bf7o5WM3lqKmGv+qy+8t",
      "include_colab_link": true
    },
    "kernelspec": {
      "name": "python3",
      "display_name": "Python 3"
    },
    "language_info": {
      "name": "python"
    }
  },
  "cells": [
    {
      "cell_type": "markdown",
      "metadata": {
        "id": "view-in-github",
        "colab_type": "text"
      },
      "source": [
        "<a href=\"https://colab.research.google.com/github/dhanarajappu456/tensor_flow_familiarize/blob/main/operation_variable.ipynb\" target=\"_parent\"><img src=\"https://colab.research.google.com/assets/colab-badge.svg\" alt=\"Open In Colab\"/></a>"
      ]
    },
    {
      "cell_type": "markdown",
      "metadata": {
        "id": "3pJGGA7TWGAj"
      },
      "source": [
        "# Create two tensors\n",
        "# Create an operation\n",
        "# Open a session"
      ]
    },
    {
      "cell_type": "code",
      "metadata": {
        "colab": {
          "base_uri": "https://localhost:8080/"
        },
        "id": "W3Y5vbKYU1iF",
        "outputId": "47c9fc95-902f-45d7-9d6d-3eef838b85c9"
      },
      "source": [
        "import tensorflow.compat.v1 as tf\n",
        "import numpy as np\n",
        "tf.disable_v2_behavior()\n",
        "x=tf.constant(2)\n",
        "y=tf.constant(4)\n",
        "mul=tf.multiply(x,y)\n",
        "with tf.Session() as sess:\n",
        "  result_1 = sess.run(mul) #can use eval also\n",
        "  print(sess.run(x))\n",
        "sess.close()\n",
        "print(result_1)\n",
        "\n",
        "\n",
        "placer=tf.placeholder(tf.float32)\n",
        "power=tf.pow(placer,2)\n",
        "data1=tf.constant(19)\n",
        "data=np.random.rand(1,5)\n",
        "with tf.Session() as sess:\n",
        "  print(sess.run(data1))\n",
        "  op=sess.run(power,feed_dict={placer:data})\n",
        "sess.close()  \n",
        "print(op)"
      ],
      "execution_count": 60,
      "outputs": [
        {
          "output_type": "stream",
          "text": [
            "2\n",
            "8\n",
            "19\n",
            "[[0.00318534 0.14018591 0.24407633 0.5542281  0.04862294]]\n"
          ],
          "name": "stdout"
        }
      ]
    },
    {
      "cell_type": "markdown",
      "metadata": {
        "id": "QDBXaZ0LfQZS"
      },
      "source": [
        "# **executing functions**\n",
        "fn=xz + x^2 +z +c"
      ]
    },
    {
      "cell_type": "code",
      "metadata": {
        "colab": {
          "base_uri": "https://localhost:8080/"
        },
        "id": "nH26sMSLfaaY",
        "outputId": "994d06e1-5aef-4ea2-8dc1-4b8d41c386cc"
      },
      "source": [
        "import tensorflow.compat.v1 as tf\n",
        "import numpy as np\n",
        "with tf.variable_scope(\"x\",reuse=tf.AUTO_REUSE) as scope:\n",
        " x=tf.get_variable(\"x\",dtype=tf.int32,initializer=tf.constant([2]))\n",
        "with tf.variable_scope(\"z\",reuse=tf.AUTO_REUSE) as scope:\n",
        " z=tf.get_variable(\"z\", dtype=tf.int32,initializer=tf.constant([2]))\n",
        "\n",
        "c = tf.constant([5], name = \"constant\")\n",
        "\n",
        "\n",
        "with tf.Session() as sess:\n",
        "  sess.run(tf.global_variables_initializer())\n",
        " \n",
        "  square=tf.constant([2], name = \"square\")\n",
        "  f = tf.multiply(x, z) + tf.pow(x, square) + z + c\n",
        "  print(f.eval())\n",
        "    "
      ],
      "execution_count": 69,
      "outputs": [
        {
          "output_type": "stream",
          "text": [
            "[15]\n"
          ],
          "name": "stdout"
        }
      ]
    }
  ]
}