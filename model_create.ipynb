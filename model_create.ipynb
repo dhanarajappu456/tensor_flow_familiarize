{
  "nbformat": 4,
  "nbformat_minor": 0,
  "metadata": {
    "colab": {
      "name": "model_create.ipynb",
      "provenance": [],
      "authorship_tag": "ABX9TyMvS1Y8N5+3SBuP27vnywbM",
      "include_colab_link": true
    },
    "kernelspec": {
      "name": "python3",
      "display_name": "Python 3"
    },
    "language_info": {
      "name": "python"
    }
  },
  "cells": [
    {
      "cell_type": "markdown",
      "metadata": {
        "id": "view-in-github",
        "colab_type": "text"
      },
      "source": [
        "<a href=\"https://colab.research.google.com/github/dhanarajappu456/tensor_flow_familiarize/blob/main/model_create.ipynb\" target=\"_parent\"><img src=\"https://colab.research.google.com/assets/colab-badge.svg\" alt=\"Open In Colab\"/></a>"
      ]
    },
    {
      "cell_type": "markdown",
      "metadata": {
        "id": "Tl76FY5FiXnx"
      },
      "source": [
        "Model training\n",
        "\n",
        "\n",
        "x 1 2 3  4\n",
        "\n",
        "\n",
        "---\n",
        "y 0 -1 -2 -3"
      ]
    },
    {
      "cell_type": "code",
      "metadata": {
        "colab": {
          "base_uri": "https://localhost:8080/"
        },
        "id": "ajKnIjGtXdrV",
        "outputId": "341a1cbe-42ba-4413-e784-e7b2220a0819"
      },
      "source": [
        "import numpy as np\n",
        "import tensorflow.compat.v1  as tf\n",
        "tf.disable_v2_behavior()\n",
        "w=tf.Variable([.3],tf.float32,name=\"w\")\n",
        "x=tf.placeholder(tf.float32,name=\"x\")\n",
        "b=tf.Variable([.3],tf.float32,name=\"b\")\n",
        "y=tf.placeholder(tf.float32,name=\"y\")\n",
        "init=tf.global_variables_initializer()\n",
        "model=w*x+b\n",
        "\n",
        "y=tf.placeholder(tf.float32)\n",
        "loss=tf.square(model-y)\n",
        "optimizer=tf.train.GradientDescentOptimizer(0.01)\n",
        "train=optimizer.minimize(loss)\n",
        "totalsum_loss=tf.reduce_sum(loss)\n",
        "sess=tf.Session()\n",
        "sess.run(init)\n",
        "print(\"\\ninitial weights and bias\\n\\n\",sess.run([w,b]))\n",
        "#print(sess.run(model,feed_dict={x:[1,2,3,4]}))\n",
        "#print(sess.run(loss ,feed_dict={x:[1,2,3,4],y:[0,-1,-2,-3]}))\n",
        "\n",
        "print(\"\\n_____________optimizing the model___________\\n\")\n",
        "for i in range(100):\n",
        "  sess.run(train,feed_dict={x:[1,2,3,4],y:[0,-1,-2,-3]})\n",
        "\n",
        "print(\"\\nfinal adjusted weight and bias\",sess.run([w,b]))  \n",
        "\n",
        "\n",
        "\n",
        "\n",
        "\n",
        "\n",
        "\n",
        "\n"
      ],
      "execution_count": 48,
      "outputs": [
        {
          "output_type": "stream",
          "text": [
            "\n",
            "initial weights and bias\n",
            "\n",
            " [array([0.3], dtype=float32), array([0.3], dtype=float32)]\n",
            "\n",
            "_____________optimizing the model___________\n",
            "\n",
            "\n",
            "final adjusted weight and bias [array([-0.89562726], dtype=float32), array([0.69313145], dtype=float32)]\n"
          ],
          "name": "stdout"
        }
      ]
    },
    {
      "cell_type": "markdown",
      "metadata": {
        "id": "rqHL-Gw7dy_Y"
      },
      "source": [
        ""
      ]
    }
  ]
}