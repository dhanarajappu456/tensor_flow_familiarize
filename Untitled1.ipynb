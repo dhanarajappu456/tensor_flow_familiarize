{
  "nbformat": 4,
  "nbformat_minor": 0,
  "metadata": {
    "colab": {
      "name": "Untitled1.ipynb",
      "provenance": [],
      "authorship_tag": "ABX9TyPBvlENnyXy/6t88Kbu+PSZ",
      "include_colab_link": true
    },
    "kernelspec": {
      "name": "python3",
      "display_name": "Python 3"
    },
    "language_info": {
      "name": "python"
    }
  },
  "cells": [
    {
      "cell_type": "markdown",
      "metadata": {
        "id": "view-in-github",
        "colab_type": "text"
      },
      "source": [
        "<a href=\"https://colab.research.google.com/github/dhanarajappu456/tensor_flow_familiarize/blob/main/Untitled1.ipynb\" target=\"_parent\"><img src=\"https://colab.research.google.com/assets/colab-badge.svg\" alt=\"Open In Colab\"/></a>"
      ]
    },
    {
      "cell_type": "code",
      "metadata": {
        "colab": {
          "base_uri": "https://localhost:8080/"
        },
        "id": "ymVX37kRgCxe",
        "outputId": "82d6f4a3-0585-462a-bbfb-8c1df29863eb"
      },
      "source": [
        "import numpy as np\n",
        "import tensorflow.compat.v1  as tf\n",
        "tf.disable_v2_behavior()\n",
        "\n",
        "x_1=tf.placeholder(tf.float32,name=\"x_1\")\n",
        "x_2=tf.placeholder(tf.float32,name=\"x_2\")\n",
        "multiplyi=tf.multiply(x_1,x_2,name=\"multi\")\n",
        "with tf.Session() as sess:\n",
        " result=sess.run(multiplyi,feed_dict={x_1:[1,2,3],x_2:[4,5,6]})\n",
        "print(result)"
      ],
      "execution_count": 24,
      "outputs": [
        {
          "output_type": "stream",
          "text": [
            "[ 4. 10. 18.]\n"
          ],
          "name": "stdout"
        }
      ]
    }
  ]
}