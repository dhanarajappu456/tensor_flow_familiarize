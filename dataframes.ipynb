{
  "nbformat": 4,
  "nbformat_minor": 0,
  "metadata": {
    "colab": {
      "name": "dataframes.ipynb",
      "provenance": [],
      "authorship_tag": "ABX9TyOTdJhWVdwAqxNbPyjvLxIC",
      "include_colab_link": true
    },
    "kernelspec": {
      "name": "python3",
      "display_name": "Python 3"
    },
    "language_info": {
      "name": "python"
    }
  },
  "cells": [
    {
      "cell_type": "markdown",
      "metadata": {
        "id": "view-in-github",
        "colab_type": "text"
      },
      "source": [
        "<a href=\"https://colab.research.google.com/github/dhanarajappu456/tensor_flow_familiarize/blob/main/dataframes.ipynb\" target=\"_parent\"><img src=\"https://colab.research.google.com/assets/colab-badge.svg\" alt=\"Open In Colab\"/></a>"
      ]
    },
    {
      "cell_type": "markdown",
      "metadata": {
        "id": "Tl76FY5FiXnx"
      },
      "source": [
        "# dataframe"
      ]
    },
    {
      "cell_type": "code",
      "metadata": {
        "colab": {
          "base_uri": "https://localhost:8080/"
        },
        "id": "1otqCOYXVYO-",
        "outputId": "75b09927-ff67-4b86-ca3c-5d1b5dbd2ac4"
      },
      "source": [
        "#numpy arary to dataframe\n",
        "\n",
        "import numpy as np\n",
        "import pandas as pd\n",
        "array_=np.array([[1,2,3],[4,5,6]])\n",
        "data_fr=pd.DataFrame(array_)\n",
        "print(\"array to dataframe\\n\",data_fr)\n",
        "\n",
        "\n",
        "#numpy arary to dataframe\n",
        "\n",
        "array_1=np.array(data_fr)\n",
        "print(\"\\ndataframe to array\\n\",array_1)\n",
        "\n",
        "#dataframe using dictionay \n",
        "\n",
        "dict_={'name':[\"Dhanaraj\",\"Radhika\",\"George\",\"Amala\"],'age':[21,\"21\",21,21]}\n",
        "data_fr2=pd.DataFrame(dict_)\n",
        "print(data_fr2)"
      ],
      "execution_count": 19,
      "outputs": [
        {
          "output_type": "stream",
          "text": [
            "array to dataframe\n",
            "    0  1  2\n",
            "0  1  2  3\n",
            "1  4  5  6\n",
            "\n",
            "dataframe to array\n",
            " [[1 2 3]\n",
            " [4 5 6]]\n",
            "       name age\n",
            "0  Dhanaraj  21\n",
            "1   Radhika  21\n",
            "2    George  21\n",
            "3     Amala  21\n"
          ],
          "name": "stdout"
        }
      ]
    },
    {
      "cell_type": "markdown",
      "metadata": {
        "id": "rqHL-Gw7dy_Y"
      },
      "source": [
        "# dateranges"
      ]
    },
    {
      "cell_type": "code",
      "metadata": {
        "id": "EF9cWt5tjfag",
        "outputId": "119475ca-b293-4258-f034-4313fc85bb6e",
        "colab": {
          "base_uri": "https://localhost:8080/"
        }
      },
      "source": [
        "month_=pd.date_range(19980714,periods=6,freq='D')\n",
        "print(month_)"
      ],
      "execution_count": 29,
      "outputs": [
        {
          "output_type": "stream",
          "text": [
            "DatetimeIndex(['1970-01-01 00:00:00.019980714',\n",
            "               '1970-01-02 00:00:00.019980714',\n",
            "               '1970-01-03 00:00:00.019980714',\n",
            "               '1970-01-04 00:00:00.019980714',\n",
            "               '1970-01-05 00:00:00.019980714',\n",
            "               '1970-01-06 00:00:00.019980714'],\n",
            "              dtype='datetime64[ns]', freq='D')\n"
          ],
          "name": "stdout"
        }
      ]
    },
    {
      "cell_type": "markdown",
      "metadata": {
        "id": "7gGAhTzKj746"
      },
      "source": [
        "# head and tail function"
      ]
    },
    {
      "cell_type": "code",
      "metadata": {
        "id": "ZuGAaQxKj8Ad",
        "outputId": "f9a801a4-e2df-4e62-9459-ab65bc12c19d",
        "colab": {
          "base_uri": "https://localhost:8080/"
        }
      },
      "source": [
        "#generate randonm numbers of order (6,4)\n",
        "\n",
        "random=np.random.randn(6,4)\n",
        "print(\"\\n\",random,\"\\n\")\n",
        "#data frame generation using random numbers\n",
        "data_fr3=df=pd.DataFrame(random,index=month_,columns=list('VWXY'))\n",
        "print(data_fr3)\n",
        "\n",
        "data_fr3.head(3)\n",
        "print(\"____________________________________\")\n",
        "\n",
        "\n",
        "#selecting single colmn\n",
        "\n",
        "data_fr3['Y']\n",
        "\n",
        "#selecting multple_columns\n",
        " \n",
        "data_fr3[['V','Y']]\n",
        "\n",
        "#dropcolumns\n",
        "\n",
        "dropped=data_fr3.drop(columns=['V','Y'])\n",
        "print(\"\\ndrop col ______________\\n\")\n",
        "print(dropped)\n",
        "\n",
        "\n"
      ],
      "execution_count": 45,
      "outputs": [
        {
          "output_type": "stream",
          "text": [
            "\n",
            " [[ 1.36582929 -0.44855533  0.23026322 -2.6576794 ]\n",
            " [-0.87649928 -0.01027286  2.06679109 -0.1284036 ]\n",
            " [-0.65193549  1.13679706  0.7171671  -0.46765701]\n",
            " [-0.10174079 -1.55855074 -0.86775112  0.01019966]\n",
            " [-1.23754236 -0.84809572  0.73121956  0.35149337]\n",
            " [ 0.58888931 -0.3262508   0.45117173 -0.10496041]] \n",
            "\n",
            "                                      V         W         X         Y\n",
            "1970-01-01 00:00:00.019980714  1.365829 -0.448555  0.230263 -2.657679\n",
            "1970-01-02 00:00:00.019980714 -0.876499 -0.010273  2.066791 -0.128404\n",
            "1970-01-03 00:00:00.019980714 -0.651935  1.136797  0.717167 -0.467657\n",
            "1970-01-04 00:00:00.019980714 -0.101741 -1.558551 -0.867751  0.010200\n",
            "1970-01-05 00:00:00.019980714 -1.237542 -0.848096  0.731220  0.351493\n",
            "1970-01-06 00:00:00.019980714  0.588889 -0.326251  0.451172 -0.104960\n",
            "____________________________________\n",
            "\n",
            "drop col ______________\n",
            "\n",
            "                                      W         X\n",
            "1970-01-01 00:00:00.019980714 -0.448555  0.230263\n",
            "1970-01-02 00:00:00.019980714 -0.010273  2.066791\n",
            "1970-01-03 00:00:00.019980714  1.136797  0.717167\n",
            "1970-01-04 00:00:00.019980714 -1.558551 -0.867751\n",
            "1970-01-05 00:00:00.019980714 -0.848096  0.731220\n",
            "1970-01-06 00:00:00.019980714 -0.326251  0.451172\n"
          ],
          "name": "stdout"
        }
      ]
    },
    {
      "cell_type": "markdown",
      "metadata": {
        "id": "-eej4ZZ5rRL6"
      },
      "source": [
        "# concatenate two datfranme"
      ]
    },
    {
      "cell_type": "code",
      "metadata": {
        "id": "tce-fPXdrOiL",
        "outputId": "9989da77-5848-44f4-f80d-b9c5a754553b",
        "colab": {
          "base_uri": "https://localhost:8080/"
        }
      },
      "source": [
        "\n",
        "df1 = pd.DataFrame({'name': ['John', 'Smith','Paul'],\n",
        "'Age': ['25', '30', '50']},\n",
        "index=[0, 1, 2])\n",
        "df2 = pd.DataFrame({'name': ['Adam', 'Smith' ],\n",
        "'Age': ['26', '11']},\n",
        "index=[3, 4])\n",
        "concated_=pd.concat([df1,df2])\n",
        "print(concated_)\n"
      ],
      "execution_count": 50,
      "outputs": [
        {
          "output_type": "stream",
          "text": [
            "    name Age\n",
            "0   John  25\n",
            "1  Smith  30\n",
            "2   Paul  50\n",
            "3   Adam  26\n",
            "4  Smith  11\n"
          ],
          "name": "stdout"
        }
      ]
    },
    {
      "cell_type": "code",
      "metadata": {
        "id": "66K8c2RvsdI9"
      },
      "source": [
        ""
      ],
      "execution_count": null,
      "outputs": []
    },
    {
      "cell_type": "markdown",
      "metadata": {
        "id": "8baXThgisWpB"
      },
      "source": [
        "# manage duplicate rows "
      ]
    },
    {
      "cell_type": "code",
      "metadata": {
        "id": "FNVVgednsGEb",
        "outputId": "f8955462-df38-4018-aa5e-eac857675aa8",
        "colab": {
          "base_uri": "https://localhost:8080/"
        }
      },
      "source": [
        "filtered_dupli_=concated_.drop_duplicates('name') # smith is duplicated twice ,so remove\n",
        "print(filtered_dupli_)"
      ],
      "execution_count": 51,
      "outputs": [
        {
          "output_type": "stream",
          "text": [
            "    name Age\n",
            "0   John  25\n",
            "1  Smith  30\n",
            "2   Paul  50\n",
            "3   Adam  26\n"
          ],
          "name": "stdout"
        }
      ]
    }
  ]
}