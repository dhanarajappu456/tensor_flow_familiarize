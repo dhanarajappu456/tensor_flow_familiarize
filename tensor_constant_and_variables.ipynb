{
  "nbformat": 4,
  "nbformat_minor": 0,
  "metadata": {
    "colab": {
      "name": "Untitled2.ipynb",
      "provenance": [],
      "authorship_tag": "ABX9TyOnkPSxikoFABC8Bl760V4A",
      "include_colab_link": true
    },
    "kernelspec": {
      "name": "python3",
      "display_name": "Python 3"
    },
    "language_info": {
      "name": "python"
    }
  },
  "cells": [
    {
      "cell_type": "markdown",
      "metadata": {
        "id": "view-in-github",
        "colab_type": "text"
      },
      "source": [
        "<a href=\"https://colab.research.google.com/github/dhanarajappu456/tensor_flow_familiarize/blob/main/tensor_constant_and_variables.ipynb\" target=\"_parent\"><img src=\"https://colab.research.google.com/assets/colab-badge.svg\" alt=\"Open In Colab\"/></a>"
      ]
    },
    {
      "cell_type": "code",
      "metadata": {
        "colab": {
          "base_uri": "https://localhost:8080/"
        },
        "id": "q3YUpl4ku69O",
        "outputId": "b98a1c62-02c9-40e0-f0eb-6d951b73432b"
      },
      "source": [
        "import numpy as np\n",
        "x_input = np.random.sample((3,3))\n",
        "print(x_input)"
      ],
      "execution_count": 4,
      "outputs": [
        {
          "output_type": "stream",
          "text": [
            "[[0.93451933 0.21723474 0.81069609]\n",
            " [0.09182509 0.28508493 0.2223816 ]\n",
            " [0.8261729  0.89643455 0.13946642]]\n"
          ],
          "name": "stdout"
        }
      ]
    },
    {
      "cell_type": "code",
      "metadata": {
        "colab": {
          "base_uri": "https://localhost:8080/"
        },
        "id": "S3u4amsM7Eq1",
        "outputId": "d56f2b1d-7c95-4434-ad21-57083774e2a9"
      },
      "source": [
        "import numpy as np\n",
        "import tensorflow.compat.v1 as tf\n",
        "tf.disable_v2_behavior()\n",
        "\n",
        "\n",
        "x_input=np.random.sample((1,2))\n",
        "x=tf.placeholder(tf.float32,shape=[1,2] ,name=\"x\")\n",
        "dataset=tf.data.Dataset.from_tensor_slices(x)\n",
        "iterator=dataset.make_initializable_iterator()\n",
        "get_next=iterator.get_next()\n",
        "with tf.Session() as sess:\n",
        "  sess.run(iterator.initializer,feed_dict={x:x_input})\n",
        "  me=sess.run(get_next)\n",
        "print(me)  \n",
        "\n",
        "\n",
        "\n"
      ],
      "execution_count": 21,
      "outputs": [
        {
          "output_type": "stream",
          "text": [
            "[0.47258535 0.77326006]\n"
          ],
          "name": "stdout"
        }
      ]
    },
    {
      "cell_type": "markdown",
      "metadata": {
        "id": "PRIB1WFBB6wb"
      },
      "source": [
        "## constant\n",
        "\n",
        "---\n",
        "\n"
      ]
    },
    {
      "cell_type": "code",
      "metadata": {
        "colab": {
          "base_uri": "https://localhost:8080/"
        },
        "id": "cJTgwrcoBLYF",
        "outputId": "138dcc1b-567b-433e-fd00-a3aa1db121ce"
      },
      "source": [
        "\n",
        "import tensorflow.compat.v1 as tf\n",
        "tf.disable_v2_behavior()\n",
        "tf.constant(1,tf.int16) # dimension 0\n",
        "arr=tf.constant([1,2,3,6],tf.int16,name=\"array\") # dimension 1\n",
        "print(tf.constant(\"Dhanaraj\",tf.string)) # string\n",
        "print(arr.shape)\n",
        "\n",
        "# create a matrx of 10X10 filled by 1\n",
        "io=tf.ones([10,10])\n",
        "\n",
        "# sqrt of a number\n",
        "x=tf.constant(2,dtype=tf.float32)\n",
        "print(tf.sqrt(x))\n",
        "print(x)\n",
        "\n",
        "\n",
        "\n",
        "# tensor operation \n",
        "\n",
        "# add example\n",
        "a_val=tf.constant([[1,2,3]],dtype=tf.int32)\n",
        "b_val=tf.constant([[3,4,5]],dtype=tf.int32)\n",
        "op_=tf.add(a_val,b_val)\n",
        "print(op_)\n",
        "tf.print(op_)\n",
        "\n",
        "\n"
      ],
      "execution_count": 51,
      "outputs": [
        {
          "output_type": "stream",
          "text": [
            "Tensor(\"Const_73:0\", shape=(), dtype=string)\n",
            "(4,)\n",
            "Tensor(\"Sqrt_14:0\", shape=(), dtype=float32)\n",
            "Tensor(\"Const_74:0\", shape=(), dtype=float32)\n",
            "Tensor(\"Add_4:0\", shape=(1, 3), dtype=int32)\n"
          ],
          "name": "stdout"
        },
        {
          "output_type": "execute_result",
          "data": {
            "text/plain": [
              "<tf.Operation 'PrintV2_3' type=PrintV2>"
            ]
          },
          "metadata": {
            "tags": []
          },
          "execution_count": 51
        }
      ]
    },
    {
      "cell_type": "markdown",
      "metadata": {
        "id": "FUFnWeaWTj7k"
      },
      "source": [
        "# Variable initialization with Matrix constant"
      ]
    },
    {
      "cell_type": "code",
      "metadata": {
        "colab": {
          "base_uri": "https://localhost:8080/"
        },
        "id": "s8YHC6F_S_XY",
        "outputId": "975103d3-517d-4891-8e6f-23d48ff03e64"
      },
      "source": [
        "# Create a 2x2 matrixtensor_const = tf.constant([[10, 20],[30, 40]])\n",
        "\n",
        "mat_cons=tf.constant([[10,89],[100,199]])\n",
        "\n",
        "# Initialize the first value of the tensor equals to tensor_const\n",
        "var_init_2 = tf.get_variable(\"var_init_2\", dtype=tf.int32,\n",
        "initializer=mat_cons)\n",
        "print(var_init_2.shape)"
      ],
      "execution_count": 55,
      "outputs": [
        {
          "output_type": "stream",
          "text": [
            "(2, 2)\n"
          ],
          "name": "stdout"
        }
      ]
    }
  ]
}